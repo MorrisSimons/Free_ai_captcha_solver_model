{
 "cells": [
  {
   "cell_type": "code",
   "execution_count": 1,
   "metadata": {},
   "outputs": [
    {
     "name": "stderr",
     "output_type": "stream",
     "text": [
      "C:\\Users\\morris simons\\AppData\\Local\\Packages\\PythonSoftwareFoundation.Python.3.9_qbz5n2kfra8p0\\LocalCache\\local-packages\\Python39\\site-packages\\tqdm\\auto.py:22: TqdmWarning: IProgress not found. Please update jupyter and ipywidgets. See https://ipywidgets.readthedocs.io/en/stable/user_install.html\n",
      "  from .autonotebook import tqdm as notebook_tqdm\n"
     ]
    }
   ],
   "source": [
    "import os\n",
    "import glob\n",
    "import torch\n",
    "from torch import nn\n",
    "import numpy as np\n",
    "\n",
    "import albumentations\n",
    "from sklearn import preprocessing\n",
    "from sklearn import model_selection\n",
    "from sklearn import metrics\n",
    "from tensorflow import keras\n",
    "\n",
    "import config\n",
    "import dataset\n",
    "import engine\n",
    "import train\n",
    "from model import CaptchaModel"
   ]
  },
  {
   "cell_type": "code",
   "execution_count": 3,
   "metadata": {},
   "outputs": [
    {
     "ename": "RuntimeError",
     "evalue": "Error(s) in loading state_dict for CaptchaModel:\n\tsize mismatch for output.weight: copying a param with shape torch.Size([37, 64]) from checkpoint, the shape in current model is torch.Size([29, 64]).\n\tsize mismatch for output.bias: copying a param with shape torch.Size([37]) from checkpoint, the shape in current model is torch.Size([29]).",
     "output_type": "error",
     "traceback": [
      "\u001b[1;31m---------------------------------------------------------------------------\u001b[0m",
      "\u001b[1;31mRuntimeError\u001b[0m                              Traceback (most recent call last)",
      "Cell \u001b[1;32mIn[3], line 37\u001b[0m\n\u001b[0;32m     35\u001b[0m model \u001b[39m=\u001b[39m CaptchaModel(num_chars\u001b[39m=\u001b[39m\u001b[39mlen\u001b[39m(lbl_enc\u001b[39m.\u001b[39mclasses_))\n\u001b[0;32m     36\u001b[0m modelname \u001b[39m=\u001b[39m \u001b[39m\"\u001b[39m\u001b[39mmodel_50.pt\u001b[39m\u001b[39m\"\u001b[39m\n\u001b[1;32m---> 37\u001b[0m model\u001b[39m.\u001b[39;49mload_state_dict(torch\u001b[39m.\u001b[39;49mload(\u001b[39mf\u001b[39;49m\u001b[39m\"\u001b[39;49m\u001b[39m{\u001b[39;49;00mmodelname\u001b[39m}\u001b[39;49;00m\u001b[39m\"\u001b[39;49m))\n\u001b[0;32m     38\u001b[0m model\u001b[39m.\u001b[39meval()\n\u001b[0;32m     40\u001b[0m model\u001b[39m.\u001b[39mto(config\u001b[39m.\u001b[39mDEVICE)\n",
      "File \u001b[1;32m~\\AppData\\Local\\Packages\\PythonSoftwareFoundation.Python.3.9_qbz5n2kfra8p0\\LocalCache\\local-packages\\Python39\\site-packages\\torch\\nn\\modules\\module.py:1497\u001b[0m, in \u001b[0;36mModule.load_state_dict\u001b[1;34m(self, state_dict, strict)\u001b[0m\n\u001b[0;32m   1492\u001b[0m         error_msgs\u001b[39m.\u001b[39minsert(\n\u001b[0;32m   1493\u001b[0m             \u001b[39m0\u001b[39m, \u001b[39m'\u001b[39m\u001b[39mMissing key(s) in state_dict: \u001b[39m\u001b[39m{}\u001b[39;00m\u001b[39m. \u001b[39m\u001b[39m'\u001b[39m\u001b[39m.\u001b[39mformat(\n\u001b[0;32m   1494\u001b[0m                 \u001b[39m'\u001b[39m\u001b[39m, \u001b[39m\u001b[39m'\u001b[39m\u001b[39m.\u001b[39mjoin(\u001b[39m'\u001b[39m\u001b[39m\"\u001b[39m\u001b[39m{}\u001b[39;00m\u001b[39m\"\u001b[39m\u001b[39m'\u001b[39m\u001b[39m.\u001b[39mformat(k) \u001b[39mfor\u001b[39;00m k \u001b[39min\u001b[39;00m missing_keys)))\n\u001b[0;32m   1496\u001b[0m \u001b[39mif\u001b[39;00m \u001b[39mlen\u001b[39m(error_msgs) \u001b[39m>\u001b[39m \u001b[39m0\u001b[39m:\n\u001b[1;32m-> 1497\u001b[0m     \u001b[39mraise\u001b[39;00m \u001b[39mRuntimeError\u001b[39;00m(\u001b[39m'\u001b[39m\u001b[39mError(s) in loading state_dict for \u001b[39m\u001b[39m{}\u001b[39;00m\u001b[39m:\u001b[39m\u001b[39m\\n\u001b[39;00m\u001b[39m\\t\u001b[39;00m\u001b[39m{}\u001b[39;00m\u001b[39m'\u001b[39m\u001b[39m.\u001b[39mformat(\n\u001b[0;32m   1498\u001b[0m                        \u001b[39mself\u001b[39m\u001b[39m.\u001b[39m\u001b[39m__class__\u001b[39m\u001b[39m.\u001b[39m\u001b[39m__name__\u001b[39m, \u001b[39m\"\u001b[39m\u001b[39m\\n\u001b[39;00m\u001b[39m\\t\u001b[39;00m\u001b[39m\"\u001b[39m\u001b[39m.\u001b[39mjoin(error_msgs)))\n\u001b[0;32m   1499\u001b[0m \u001b[39mreturn\u001b[39;00m _IncompatibleKeys(missing_keys, unexpected_keys)\n",
      "\u001b[1;31mRuntimeError\u001b[0m: Error(s) in loading state_dict for CaptchaModel:\n\tsize mismatch for output.weight: copying a param with shape torch.Size([37, 64]) from checkpoint, the shape in current model is torch.Size([29, 64]).\n\tsize mismatch for output.bias: copying a param with shape torch.Size([37]) from checkpoint, the shape in current model is torch.Size([29])."
     ]
    }
   ],
   "source": [
    "image_files = glob.glob(os.path.join(config.DEPLOYMENT_DATA, \"*.png\"))\n",
    "targets_orig = [x.split(\"/\")[-1][9:14] for x in image_files]\n",
    "targets = [[c for c in x] for x in targets_orig]\n",
    "targets_flat = [c for clist in targets for c in clist]\n",
    "lbl_enc = preprocessing.LabelEncoder()\n",
    "lbl_enc.fit(targets_flat)\n",
    "targets_enc = [lbl_enc.transform(x) for x in targets]\n",
    "targets_enc = np.array(targets_enc)\n",
    "targets_enc = targets_enc + 1\n",
    "(\n",
    "    train_imgs,\n",
    "    test_imgs,\n",
    "    train_targets,\n",
    "    test_targets,\n",
    "    _,\n",
    "    test_targets_orig,\n",
    ") = model_selection.train_test_split(\n",
    "    image_files,\n",
    "    targets_enc,\n",
    "    targets_orig,\n",
    "    test_size=0.1,\n",
    "    random_state=42\n",
    ")\n",
    "deployment_dataset = dataset.ClassificationDataset(\n",
    "    image_paths=train_imgs,\n",
    "    targets=train_targets,\n",
    "    resize=(config.IMAGE_HEIGHT, config.IMAGE_WIDTH),\n",
    ")\n",
    "deployment_loader = torch.utils.data.DataLoader(\n",
    "    deployment_dataset,\n",
    "    batch_size=config.BATCH_SIZE,\n",
    "    num_workers=config.NUM_WORKERS,\n",
    "    shuffle=False,\n",
    ")\n",
    "model = CaptchaModel(num_chars=len(lbl_enc.classes_))\n",
    "modelname = \"model_50\"\n",
    "model.load_state_dict(torch.load(f\"{modelname}.pt\"))\n",
    "model.eval()\n",
    "\n",
    "model.to(config.DEVICE)\n",
    "predictions = engine.predict_fn(model, deployment_loader)\n",
    "print(predictions)\n"
   ]
  },
  {
   "cell_type": "code",
   "execution_count": null,
   "metadata": {},
   "outputs": [],
   "source": []
  }
 ],
 "metadata": {
  "kernelspec": {
   "display_name": "Python 3.9.13 64-bit (microsoft store)",
   "language": "python",
   "name": "python3"
  },
  "language_info": {
   "codemirror_mode": {
    "name": "ipython",
    "version": 3
   },
   "file_extension": ".py",
   "mimetype": "text/x-python",
   "name": "python",
   "nbconvert_exporter": "python",
   "pygments_lexer": "ipython3",
   "version": "3.9.13"
  },
  "orig_nbformat": 4,
  "vscode": {
   "interpreter": {
    "hash": "c76e161d1e40207614254ba4830e851e54feee710c8ab5122479d75ac025aee4"
   }
  }
 },
 "nbformat": 4,
 "nbformat_minor": 2
}
