{
 "cells": [
  {
   "cell_type": "code",
   "execution_count": 3,
   "metadata": {},
   "outputs": [],
   "source": [
    "import os\n",
    "import glob\n",
    "import torch\n",
    "import numpy as np\n",
    "\n",
    "from sklearn import preprocessing\n",
    "from sklearn import model_selection\n",
    "from sklearn import metrics\n",
    "\n",
    "import config\n",
    "import dataset\n",
    "import matplotlib.pyplot as plt\n",
    "%matplotlib inline"
   ]
  },
  {
   "cell_type": "code",
   "execution_count": 5,
   "metadata": {},
   "outputs": [
    {
     "ename": "TypeError",
     "evalue": "__init__() got an unexpected keyword argument 'image_path'",
     "output_type": "error",
     "traceback": [
      "\u001b[1;31m---------------------------------------------------------------------------\u001b[0m",
      "\u001b[1;31mTypeError\u001b[0m                                 Traceback (most recent call last)",
      "Cell \u001b[1;32mIn[5], line 23\u001b[0m\n\u001b[0;32m      8\u001b[0m target_enc \u001b[39m=\u001b[39m np\u001b[39m.\u001b[39marray(targets_enc) \u001b[39m+\u001b[39m \u001b[39m1\u001b[39m\n\u001b[0;32m      9\u001b[0m (\n\u001b[0;32m     10\u001b[0m     train_imgs,\n\u001b[0;32m     11\u001b[0m     test_imgs,\n\u001b[1;32m   (...)\u001b[0m\n\u001b[0;32m     21\u001b[0m     random_state\u001b[39m=\u001b[39m\u001b[39m42\u001b[39m\n\u001b[0;32m     22\u001b[0m )\n\u001b[1;32m---> 23\u001b[0m train_dataset \u001b[39m=\u001b[39m dataset\u001b[39m.\u001b[39;49mClassificationDataset(\n\u001b[0;32m     24\u001b[0m     image_path\u001b[39m=\u001b[39;49mtrain_imgs,\n\u001b[0;32m     25\u001b[0m     targets\u001b[39m=\u001b[39;49mtrain_targets,\n\u001b[0;32m     26\u001b[0m     resize\u001b[39m=\u001b[39;49m(config\u001b[39m.\u001b[39;49mIMAGE_HEIGHT,\n\u001b[0;32m     27\u001b[0m             config\u001b[39m.\u001b[39;49mIMAGE_WIDTH\n\u001b[0;32m     28\u001b[0m             ),)\n",
      "\u001b[1;31mTypeError\u001b[0m: __init__() got an unexpected keyword argument 'image_path'"
     ]
    }
   ],
   "source": [
    "image_files = glob.glob(os.path.join(config.DATA_DIR, \"*.png\"))\n",
    "targets_orig = [x.split(\"/\")[-1][9:14] for x in image_files]\n",
    "targets = [[c for c in x] for x in targets_orig]\n",
    "targets_flat = [c for clist in targets for c in clist]\n",
    "lbl_enc = preprocessing.LabelEncoder()\n",
    "lbl_enc.fit(targets_flat)\n",
    "targets_enc = [lbl_enc.transform(x) for x in targets]\n",
    "target_enc = np.array(targets_enc) + 1\n",
    "(\n",
    "    train_imgs,\n",
    "    test_imgs,\n",
    "    train_targets,\n",
    "    test_targets,\n",
    "    train_orig_targets,\n",
    "    test_orig_targets\n",
    "    ) = model_selection.train_test_split(\n",
    "    image_files,\n",
    "    target_enc,\n",
    "    targets_orig,\n",
    "    test_size=0.1,\n",
    "    random_state=42\n",
    ")\n",
    "train_dataset = dataset.ClassificationDataset(\n",
    "    image_paths=train_imgs,\n",
    "    targets=train_targets,\n",
    "    resize=(config.IMAGE_HEIGHT,\n",
    "            config.IMAGE_WIDTH\n",
    "            ),)"
   ]
  },
  {
   "cell_type": "code",
   "execution_count": null,
   "metadata": {},
   "outputs": [],
   "source": [
    "npimg = train_dataset[7][\"images\"].numpy()"
   ]
  },
  {
   "cell_type": "code",
   "execution_count": null,
   "metadata": {},
   "outputs": [],
   "source": [
    "plt.imshow(np.transpose(npimg, (1, 2, 0)))"
   ]
  },
  {
   "cell_type": "code",
   "execution_count": null,
   "metadata": {},
   "outputs": [],
   "source": [
    "npimg = train_dataset[7][\"images\"].numpy()"
   ]
  },
  {
   "cell_type": "code",
   "execution_count": null,
   "metadata": {},
   "outputs": [],
   "source": [
    "npimg.shape"
   ]
  }
 ],
 "metadata": {
  "kernelspec": {
   "display_name": "Python 3.9.13 64-bit (microsoft store)",
   "language": "python",
   "name": "python3"
  },
  "language_info": {
   "codemirror_mode": {
    "name": "ipython",
    "version": 3
   },
   "file_extension": ".py",
   "mimetype": "text/x-python",
   "name": "python",
   "nbconvert_exporter": "python",
   "pygments_lexer": "ipython3",
   "version": "3.9.13"
  },
  "orig_nbformat": 4,
  "vscode": {
   "interpreter": {
    "hash": "c76e161d1e40207614254ba4830e851e54feee710c8ab5122479d75ac025aee4"
   }
  }
 },
 "nbformat": 4,
 "nbformat_minor": 2
}
