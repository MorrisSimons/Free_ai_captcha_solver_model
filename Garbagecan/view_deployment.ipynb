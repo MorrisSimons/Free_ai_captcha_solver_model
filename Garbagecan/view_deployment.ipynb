{
 "cells": [
  {
   "cell_type": "code",
   "execution_count": null,
   "metadata": {},
   "outputs": [],
   "source": [
    "import os\n",
    "import glob\n",
    "import torch\n",
    "from torch import nn\n",
    "import numpy as np\n",
    "\n",
    "import albumentations\n",
    "from sklearn import preprocessing\n",
    "from sklearn import model_selection\n",
    "from sklearn import metrics\n",
    "from tensorflow import keras\n",
    "\n",
    "import config\n",
    "import dataset\n",
    "import engine\n",
    "import train\n",
    "from model import CaptchaModel"
   ]
  },
  {
   "cell_type": "code",
   "execution_count": 7,
   "metadata": {},
   "outputs": [
    {
     "name": "stdout",
     "output_type": "stream",
     "text": [
      "lbl_enc.classes_  28\n"
     ]
    },
    {
     "ename": "RuntimeError",
     "evalue": "Error(s) in loading state_dict for CaptchaModel:\n\tsize mismatch for output.weight: copying a param with shape torch.Size([37, 64]) from checkpoint, the shape in current model is torch.Size([29, 64]).\n\tsize mismatch for output.bias: copying a param with shape torch.Size([37]) from checkpoint, the shape in current model is torch.Size([29]).",
     "output_type": "error",
     "traceback": [
      "\u001b[1;31m---------------------------------------------------------------------------\u001b[0m",
      "\u001b[1;31mRuntimeError\u001b[0m                              Traceback (most recent call last)",
      "Cell \u001b[1;32mIn[7], line 51\u001b[0m\n\u001b[0;32m     49\u001b[0m \u001b[39mprint\u001b[39m(\u001b[39m\"\u001b[39m\u001b[39mlbl_enc.classes_ \u001b[39m\u001b[39m\"\u001b[39m,\u001b[39mlen\u001b[39m(lbl_enc\u001b[39m.\u001b[39mclasses_))\n\u001b[0;32m     50\u001b[0m model \u001b[39m=\u001b[39m CaptchaModel(num_chars\u001b[39m=\u001b[39m\u001b[39mlen\u001b[39m(lbl_enc\u001b[39m.\u001b[39mclasses_))\n\u001b[1;32m---> 51\u001b[0m model\u001b[39m.\u001b[39;49mload_state_dict(torch\u001b[39m.\u001b[39;49mload(\u001b[39mf\u001b[39;49m\u001b[39m\"\u001b[39;49m\u001b[39mmodel_50.pt\u001b[39;49m\u001b[39m\"\u001b[39;49m))\n\u001b[0;32m     52\u001b[0m model\u001b[39m.\u001b[39meval()\n\u001b[0;32m     54\u001b[0m model\u001b[39m.\u001b[39mto(config\u001b[39m.\u001b[39mDEVICE)\n",
      "File \u001b[1;32m~\\AppData\\Local\\Packages\\PythonSoftwareFoundation.Python.3.9_qbz5n2kfra8p0\\LocalCache\\local-packages\\Python39\\site-packages\\torch\\nn\\modules\\module.py:1497\u001b[0m, in \u001b[0;36mModule.load_state_dict\u001b[1;34m(self, state_dict, strict)\u001b[0m\n\u001b[0;32m   1492\u001b[0m         error_msgs\u001b[39m.\u001b[39minsert(\n\u001b[0;32m   1493\u001b[0m             \u001b[39m0\u001b[39m, \u001b[39m'\u001b[39m\u001b[39mMissing key(s) in state_dict: \u001b[39m\u001b[39m{}\u001b[39;00m\u001b[39m. \u001b[39m\u001b[39m'\u001b[39m\u001b[39m.\u001b[39mformat(\n\u001b[0;32m   1494\u001b[0m                 \u001b[39m'\u001b[39m\u001b[39m, \u001b[39m\u001b[39m'\u001b[39m\u001b[39m.\u001b[39mjoin(\u001b[39m'\u001b[39m\u001b[39m\"\u001b[39m\u001b[39m{}\u001b[39;00m\u001b[39m\"\u001b[39m\u001b[39m'\u001b[39m\u001b[39m.\u001b[39mformat(k) \u001b[39mfor\u001b[39;00m k \u001b[39min\u001b[39;00m missing_keys)))\n\u001b[0;32m   1496\u001b[0m \u001b[39mif\u001b[39;00m \u001b[39mlen\u001b[39m(error_msgs) \u001b[39m>\u001b[39m \u001b[39m0\u001b[39m:\n\u001b[1;32m-> 1497\u001b[0m     \u001b[39mraise\u001b[39;00m \u001b[39mRuntimeError\u001b[39;00m(\u001b[39m'\u001b[39m\u001b[39mError(s) in loading state_dict for \u001b[39m\u001b[39m{}\u001b[39;00m\u001b[39m:\u001b[39m\u001b[39m\\n\u001b[39;00m\u001b[39m\\t\u001b[39;00m\u001b[39m{}\u001b[39;00m\u001b[39m'\u001b[39m\u001b[39m.\u001b[39mformat(\n\u001b[0;32m   1498\u001b[0m                        \u001b[39mself\u001b[39m\u001b[39m.\u001b[39m\u001b[39m__class__\u001b[39m\u001b[39m.\u001b[39m\u001b[39m__name__\u001b[39m, \u001b[39m\"\u001b[39m\u001b[39m\\n\u001b[39;00m\u001b[39m\\t\u001b[39;00m\u001b[39m\"\u001b[39m\u001b[39m.\u001b[39mjoin(error_msgs)))\n\u001b[0;32m   1499\u001b[0m \u001b[39mreturn\u001b[39;00m _IncompatibleKeys(missing_keys, unexpected_keys)\n",
      "\u001b[1;31mRuntimeError\u001b[0m: Error(s) in loading state_dict for CaptchaModel:\n\tsize mismatch for output.weight: copying a param with shape torch.Size([37, 64]) from checkpoint, the shape in current model is torch.Size([29, 64]).\n\tsize mismatch for output.bias: copying a param with shape torch.Size([37]) from checkpoint, the shape in current model is torch.Size([29])."
     ]
    }
   ],
   "source": [
    "\n",
    "image_files = glob.glob(os.path.join(config.DEPLOYMENT_DATA, \"*.png\"))\n",
    "\"\"\"The glob module finds all the pathnames matching a specified pattern according\n",
    "to the rules used by the Unix shell, although results are returned in arbitrary order.\n",
    "No tilde expansion is done, but *, ?, and character ranges expressed with []\n",
    "will be correctly matched. This is done by using the os.scandir() and fnmatch.fnmatch()\n",
    "functions in concert, and not by actually invoking a subshell.\"\"\"\n",
    "targets_orig = [x.split(\"/\")[-1][9:14] for x in image_files]\n",
    "targets = [[c for c in x] for x in targets_orig]\n",
    "targets_flat = [c for clist in targets for c in clist]\n",
    "lbl_enc = preprocessing.LabelEncoder()\n",
    "lbl_enc.fit(targets_flat)\n",
    "#print(len(lbl_enc.classes_))\n",
    "targets_enc = [lbl_enc.transform(x) for x in targets]\n",
    "targets_enc = np.array(targets_enc)\n",
    "targets_enc = targets_enc + 1\n",
    "(\n",
    "    train_imgs,\n",
    "    test_imgs,\n",
    "    train_targets,\n",
    "    test_targets,\n",
    "    _,\n",
    "    test_targets_orig,\n",
    ") = model_selection.train_test_split(\n",
    "    image_files, targets_enc, targets_orig, test_size=0.1, random_state=42\n",
    ")\n",
    "\n",
    "train_dataset = dataset.ClassificationDataset(\n",
    "    image_paths=train_imgs,\n",
    "    targets=train_targets,\n",
    "    resize=(config.IMAGE_HEIGHT, config.IMAGE_WIDTH),\n",
    ")\n",
    "train_loader = torch.utils.data.DataLoader(\n",
    "    train_dataset,\n",
    "    batch_size=config.BATCH_SIZE,\n",
    "    num_workers=config.NUM_WORKERS,\n",
    "    shuffle=True,\n",
    ")\n",
    "test_dataset = dataset.ClassificationDataset(\n",
    "    image_paths=test_imgs,\n",
    "    targets=test_targets,\n",
    "    resize=(config.IMAGE_HEIGHT, config.IMAGE_WIDTH),\n",
    ")\n",
    "test_loader = torch.utils.data.DataLoader(\n",
    "    test_dataset,\n",
    "    batch_size=config.BATCH_SIZE,\n",
    "    num_workers=config.NUM_WORKERS,\n",
    "    shuffle=False,\n",
    ")\n",
    "print(\"lbl_enc.classes_ \",len(lbl_enc.classes_))\n",
    "model = CaptchaModel(num_chars=len(lbl_enc.classes_))\n",
    "model.load_state_dict(torch.load(f\"model_50.pt\"))\n",
    "model.eval()\n",
    "\n",
    "model.to(config.DEVICE)\n",
    "predictions, lossdata = engine.eval_fn(model, )\n",
    "print(predictions)\n",
    "print(\"this is lost data \",lossdata)\n",
    "\n"
   ]
  },
  {
   "cell_type": "code",
   "execution_count": null,
   "metadata": {},
   "outputs": [],
   "source": []
  }
 ],
 "metadata": {
  "kernelspec": {
   "display_name": "Python 3",
   "language": "python",
   "name": "python3"
  },
  "language_info": {
   "codemirror_mode": {
    "name": "ipython",
    "version": 3
   },
   "file_extension": ".py",
   "mimetype": "text/x-python",
   "name": "python",
   "nbconvert_exporter": "python",
   "pygments_lexer": "ipython3",
   "version": "3.9.13 (tags/v3.9.13:6de2ca5, May 17 2022, 16:36:42) [MSC v.1929 64 bit (AMD64)]"
  },
  "orig_nbformat": 4,
  "vscode": {
   "interpreter": {
    "hash": "39f65436e402c05df31dc1871c1bd934f78cddc8b94c7de3bcca42eed72e5d7f"
   }
  }
 },
 "nbformat": 4,
 "nbformat_minor": 2
}
