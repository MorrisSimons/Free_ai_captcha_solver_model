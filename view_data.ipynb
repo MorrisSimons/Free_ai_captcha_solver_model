{
 "cells": [
  {
   "cell_type": "code",
   "execution_count": 1,
   "metadata": {},
   "outputs": [
    {
     "name": "stderr",
     "output_type": "stream",
     "text": [
      "C:\\Users\\morris simons\\AppData\\Local\\Packages\\PythonSoftwareFoundation.Python.3.9_qbz5n2kfra8p0\\LocalCache\\local-packages\\Python39\\site-packages\\tqdm\\auto.py:22: TqdmWarning: IProgress not found. Please update jupyter and ipywidgets. See https://ipywidgets.readthedocs.io/en/stable/user_install.html\n",
      "  from .autonotebook import tqdm as notebook_tqdm\n"
     ]
    }
   ],
   "source": [
    "import os\n",
    "import glob\n",
    "import torch\n",
    "import numpy as np\n",
    "\n",
    "from sklearn import preprocessing\n",
    "from sklearn import model_selection\n",
    "from sklearn import metrics\n",
    "\n",
    "import config\n",
    "import dataset\n",
    "import matplotlib.pyplot as plt\n",
    "%matplotlib inline"
   ]
  },
  {
   "cell_type": "code",
   "execution_count": 2,
   "metadata": {},
   "outputs": [
    {
     "name": "stdout",
     "output_type": "stream",
     "text": [
      "how many records in log: 1247\n",
      "this is avg time: 26.591820\n",
      "the amount of max combinations when brutforceing: 60,466,176\n"
     ]
    }
   ],
   "source": [
    "\"\"\"To get avgtime from the data traning\"\"\"\n",
    "with open (\"log.txt\", \"r\") as f:\n",
    "    x = f.read()\n",
    "x = [int(float(i)) for i in x.split(\",\") if i != \"\"]\n",
    "avg_time = sum(x)/len(x)\n",
    "print(f\"how many records in log: {len(x)}\")\n",
    "print(f\"this is avg time: {avg_time:1f}\".format(round(avg_time,2)))\n",
    "print(f\"the amount of max combinations when brutforceing: {36**5:,}\")"
   ]
  },
  {
   "cell_type": "code",
   "execution_count": 3,
   "metadata": {},
   "outputs": [
    {
     "name": "stdout",
     "output_type": "stream",
     "text": [
      "./testdata/\n",
      "['0', '0', 'u', 'x', 'c']\n",
      "['0', '4', 'd', 'm', 'x']\n",
      "['0', '9', '0', 'y', 'l']\n",
      "['0', 'f', '3', 's', 'b']\n",
      "['1', 'a', '9', 'x', 'v']\n",
      "['1', 'd', 't', '4', 'p']\n",
      "['1', 'g', '1', 'v', 'e']\n",
      "['2', 'f', '4', 'i', 'a']\n",
      "['2', 'i', '6', 'x', 'o']\n",
      "['2', 'm', 'd', '3', 'g']\n",
      "['2', 'z', '9', 'r', 'x']\n",
      "['2', 'z', 'u', 'a', '9']\n",
      "['3', '6', '7', 'e', 'c']\n",
      "['3', '7', 'r', 'f', 'k']\n",
      "['3', 'i', 'v', 'n', 'l']\n",
      "['3', 'k', '6', 'g', 'l']\n",
      "['3', 'v', 'q', 'o', 'd']\n",
      "['3', 'w', 'u', '7', 'f']\n",
      "['4', '5', 'd', '0', '9']\n",
      "['4', 'h', 'q', 'h', 'n']\n",
      "['4', 'j', '1', 'w', 'v']\n",
      "['5', '8', 'e', 's', 'b']\n",
      "['5', 'i', '2', '8', 'v']\n",
      "['5', 'n', 'm', 'k', 'v']\n",
      "['5', 's', 'n', 'd', 'j']\n",
      "['6', '8', 'y', '6', 'f']\n",
      "['6', '9', '2', '4', 'm']\n",
      "['6', 'o', 't', 'q', 'j']\n",
      "['6', 'r', '6', 'p', '4']\n",
      "['6', 'r', 's', 'y', 'm']\n",
      "['7', '1', 'z', 'a', '4']\n",
      "['7', '6', 'c', 'm', 'u']\n",
      "['7', 'f', 'z', '1', 'p']\n",
      "['7', 't', 'e', '5', 's']\n",
      "['7', 'y', 'v', '8', 'y']\n",
      "['8', '0', 'w', 's', 'g']\n",
      "['8', '1', '9', 'j', 'o']\n",
      "['8', 'e', 'm', 'i', 'n']\n",
      "['8', 'i', 'm', 'd', 'z']\n",
      "['8', 'l', 'g', 'r', 'a']\n",
      "['8', 'l', 'y', 'w', 'd']\n",
      "['9', 'o', 'z', 'c', 'x']\n",
      "['9', 'q', '0', 'm', 'k']\n",
      "['9', 'r', '9', '4', 'x']\n",
      "['9', 'r', 'c', 'm', '0']\n",
      "['a', '0', 'u', 'd', 'f']\n",
      "['a', '1', 'u', '9', 'c']\n",
      "['a', '9', 'z', 'w', 'i']\n",
      "['a', 'p', '9', '5', 'i']\n",
      "['b', '5', 'v', 'h', '6']\n",
      "['b', '8', '8', '3', 'e']\n",
      "['b', 'b', 'q', 'i', 'x']\n",
      "['b', 'd', '3', 'n', 'j']\n",
      "['b', 'z', 'w', '8', 'c']\n",
      "['c', '1', 's', '4', 'd']\n",
      "['c', 'l', 'z', 'x', 'p']\n",
      "['c', 'o', '8', '1', '6']\n",
      "['d', '4', '0', 'f', 'e']\n",
      "['d', '5', 'p', 'd', 'j']\n",
      "['d', 'h', 'l', 'o', 'l']\n",
      "['d', 'i', 'c', '2', 'o']\n",
      "['d', 'm', 'r', '7', '0']\n",
      "['e', '5', 'p', '6', '1']\n",
      "['e', '9', 'x', 'i', '2']\n",
      "['e', 'q', '0', 'r', '2']\n",
      "['e', 'z', 'y', '1', 'b']\n",
      "['f', 'f', 'c', '3', 'p']\n",
      "['f', 'f', 'j', 's', '8']\n",
      "['f', 'p', 'r', '5', '4']\n",
      "['g', 'a', 'x', '4', 'x']\n",
      "['g', 'w', '4', 'm', 'y']\n",
      "['h', '1', 'f', '9', 'q']\n",
      "['h', 'q', 'k', '7', 'l']\n",
      "['h', 'w', '5', 'o', '5']\n",
      "['i', '4', 'c', 'z', 'j']\n",
      "['i', 'h', '0', 't', 'k']\n",
      "['i', 'j', '1', 's', 'a']\n",
      "['i', 'o', '8', 'k', 'd']\n",
      "['i', 'w', '5', 's', '9']\n",
      "['j', '0', 'n', 'i', '3']\n",
      "['j', '1', '6', 'c', '5']\n",
      "['j', '5', 'e', '5', 'm']\n",
      "['j', 'g', '7', 'h', 'g']\n",
      "['j', 'h', 'f', 'e', 'w']\n",
      "['j', 'h', 'l', 'd', 'm']\n",
      "['j', 'm', '8', 'z', 'v']\n",
      "['j', 's', 'q', '6', '3']\n",
      "['j', 'x', 'l', '3', 'p']\n",
      "['j', 'y', '8', '4', 'x']\n",
      "['j', 'y', 'k', 'o', 'l']\n",
      "['k', 'i', 'd', 'n', 'u']\n",
      "['l', '0', '5', 'b', 'y']\n",
      "['l', 'h', 'a', 'y', '4']\n",
      "['l', 'i', 'e', 'j', 'f']\n",
      "['l', 'q', '7', 'd', 'g']\n",
      "['l', 'r', 'i', 'p', 'r']\n",
      "['l', 'v', '4', 's', 'q']\n",
      "['m', '2', 'y', '5', 'j']\n",
      "['m', 'q', 'j', '7', '9']\n",
      "['m', 'z', '5', '2', 'c']\n",
      "['m', 'z', 'b', 's', 'l']\n",
      "['n', '6', 'j', 't', 'g']\n",
      "['n', '7', '7', '9', 'p']\n",
      "['n', 'j', '1', 'b', '2']\n",
      "['n', 'j', '4', '3', 'i']\n",
      "['n', 'k', 'w', 'o', 'm']\n",
      "['n', 'y', '8', 'c', 'w']\n",
      "['o', '4', 'v', 'p', 'p']\n",
      "['p', '5', 's', '7', 'j']\n",
      "['p', 'j', 'a', 'k', 'k']\n",
      "['p', 'l', 'y', '2', 'p']\n",
      "['q', '5', '8', 'a', 'h']\n",
      "['q', 'b', 'd', 't', 'j']\n",
      "['q', 'w', '2', 'n', 'q']\n",
      "['r', 'g', 'f', '7', 'r']\n",
      "['r', 'k', 'p', '2', '1']\n",
      "['s', '6', '1', 'x', '6']\n",
      "['s', 'e', 'j', 'q', '4']\n",
      "['s', 'y', '2', 'k', 'z']\n",
      "['s', 'z', 'e', '6', 'a']\n",
      "['t', '5', 'o', 'y', '9']\n",
      "['t', '9', 's', 'a', 'n']\n",
      "['t', 'b', 'l', 'v', 'w']\n",
      "['t', 'd', '3', 'f', 'w']\n",
      "['t', 'j', 'c', '1', 't']\n",
      "['t', 'r', 'h', '9', 'j']\n",
      "['t', 't', 't', '7', 'g']\n",
      "['t', 'z', 'd', 'z', 'e']\n",
      "['u', '3', 'q', 'y', '1']\n",
      "['u', '9', '0', '5', 'n']\n",
      "['u', '9', 'e', '1', 'q']\n",
      "['u', 'a', '8', 'b', '8']\n",
      "['u', 'c', 'r', '9', 'g']\n",
      "['v', 'c', 'c', 'o', 'b']\n",
      "['v', 'c', 'p', '5', '7']\n",
      "['v', 'f', 'm', 'a', 'y']\n",
      "['w', '8', '8', 'n', 'i']\n",
      "['w', 'c', '9', 'n', '5']\n",
      "['w', 'v', '3', '7', '9']\n",
      "['x', '6', 'q', 'v', 'u']\n",
      "['x', '8', 'd', 'u', 'n']\n",
      "['x', '9', '9', '2', 'k']\n",
      "['x', 'p', '3', 'f', '0']\n",
      "['x', 'u', '7', 'l', 'j']\n",
      "['y', '3', '5', 'i', 'v']\n",
      "['y', 'j', 'a', 'k', 'h']\n",
      "['y', 'w', '6', 'r', '2']\n",
      "['z', '1', 'o', 'w', 'w']\n",
      "['z', '4', 'i', 'g', '7']\n",
      "['z', 'i', 'v', 'g', 'y']\n",
      "['z', 'k', 'a', 'y', '3']\n",
      "['z', 's', 't', 'k', 'o']\n"
     ]
    }
   ],
   "source": [
    "image_files = glob.glob(os.path.join(config.DEPLOYMENT_DATA, \"*.png\"))\n",
    "print(config.DEPLOYMENT_DATA)\n",
    "targets_orig = [x.split(\"/\")[-1][9:14] for x in image_files]\n",
    "targets = [[c for c in x] for x in targets_orig]\n",
    "targets_flat = [c for clist in targets for c in clist]\n",
    "lbl_enc = preprocessing.LabelEncoder()\n",
    "lbl_enc.fit(targets_flat)\n",
    "for target in targets:\n",
    "    print(target)\n",
    "targets_enc = [lbl_enc.transform(x) for x in targets]\n",
    "target_enc = np.array(targets_enc) + 1\n",
    "(\n",
    "    train_imgs,\n",
    "    test_imgs,\n",
    "    train_targets,\n",
    "    test_targets,\n",
    "    train_orig_targets,\n",
    "    test_orig_targets\n",
    "    ) = model_selection.train_test_split(\n",
    "    image_files,\n",
    "    target_enc,\n",
    "    targets_orig,\n",
    "    test_size=0.1,\n",
    "    random_state=42\n",
    ")\n",
    "train_dataset = dataset.ClassificationDataset(\n",
    "    image_paths=train_imgs,\n",
    "    targets=train_targets,\n",
    "    resize=(config.IMAGE_HEIGHT,\n",
    "            config.IMAGE_WIDTH\n",
    "            ),)\n",
    "#lbl_enc.classes_ = [c for c in lbl_enc.classes_ if c != \"\\\\\"]"
   ]
  },
  {
   "cell_type": "code",
   "execution_count": 4,
   "metadata": {},
   "outputs": [
    {
     "name": "stdout",
     "output_type": "stream",
     "text": [
      "36\n",
      "['0' '1' '2' '3' '4' '5' '6' '7' '8' '9' 'a' 'b' 'c' 'd' 'e' 'f' 'g' 'h'\n",
      " 'i' 'j' 'k' 'l' 'm' 'n' 'o' 'p' 'q' 'r' 's' 't' 'u' 'v' 'w' 'x' 'y' 'z']\n"
     ]
    }
   ],
   "source": [
    "\"\"\"To get Number of classes or unique characters from the data\"\"\"\n",
    "print(len(lbl_enc.classes_))\n",
    "print(lbl_enc.classes_)"
   ]
  },
  {
   "cell_type": "code",
   "execution_count": 5,
   "metadata": {},
   "outputs": [],
   "source": [
    "npimg = train_dataset[20][\"images\"].numpy()"
   ]
  },
  {
   "cell_type": "code",
   "execution_count": 6,
   "metadata": {},
   "outputs": [
    {
     "name": "stderr",
     "output_type": "stream",
     "text": [
      "Clipping input data to the valid range for imshow with RGB data ([0..1] for floats or [0..255] for integers).\n"
     ]
    },
    {
     "data": {
      "text/plain": [
       "<matplotlib.image.AxesImage at 0x22386ab2580>"
      ]
     },
     "execution_count": 6,
     "metadata": {},
     "output_type": "execute_result"
    },
    {
     "data": {
      "image/png": "[encoded data removed]",
      "text/plain": [
       "<Figure size 640x480 with 1 Axes>"
      ]
     },
     "metadata": {},
     "output_type": "display_data"
    }
   ],
   "source": [
    "plt.imshow(np.transpose(npimg, (1, 2, 0)))"
   ]
  },
  {
   "cell_type": "code",
   "execution_count": 7,
   "metadata": {},
   "outputs": [],
   "source": [
    "npimg = train_dataset[7][\"images\"].numpy()"
   ]
  },
  {
   "cell_type": "code",
   "execution_count": 8,
   "metadata": {},
   "outputs": [
    {
     "data": {
      "text/plain": [
       "(3, 100, 300)"
      ]
     },
     "execution_count": 8,
     "metadata": {},
     "output_type": "execute_result"
    }
   ],
   "source": [
    "npimg.shape"
   ]
  }
 ],
 "metadata": {
  "kernelspec": {
   "display_name": "Python 3",
   "language": "python",
   "name": "python3"
  },
  "language_info": {
   "codemirror_mode": {
    "name": "ipython",
    "version": 3
   },
   "file_extension": ".py",
   "mimetype": "text/x-python",
   "name": "python",
   "nbconvert_exporter": "python",
   "pygments_lexer": "ipython3",
   "version": "3.9.13"
  },
  "orig_nbformat": 4,
  "vscode": {
   "interpreter": {
    "hash": "39f65436e402c05df31dc1871c1bd934f78cddc8b94c7de3bcca42eed72e5d7f"
   }
  }
 },
 "nbformat": 4,
 "nbformat_minor": 2
}
